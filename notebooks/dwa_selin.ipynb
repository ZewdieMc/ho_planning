{
 "cells": [
  {
   "cell_type": "markdown",
   "metadata": {},
   "source": [
    "# Score Calculation Functions for DWA\n"
   ]
  },
  {
   "cell_type": "markdown",
   "metadata": {},
   "source": [
    "## Heading Score"
   ]
  },
  {
   "cell_type": "code",
   "execution_count": 12,
   "metadata": {},
   "outputs": [
    {
     "name": "stdout",
     "output_type": "stream",
     "text": [
      "-3.1405926535897932\n"
     ]
    }
   ],
   "source": [
    "import numpy as np\n",
    "def wrap_angle(angle):\n",
    "    return (angle + ( 2.0 * np.pi * np.floor( ( np.pi - angle ) / ( 2.0 * np.pi ) ) ) )\n",
    "\n",
    "#point = [x, y, theta]\n",
    "#goal = [x, y]\n",
    "\n",
    "def heading_score(point, goal):\n",
    "    #distance = ((goal[0] - point[0])**2 + (goal[1] - point[1])**2)**0.5\n",
    "    psi_d = np.arctan2(goal[1] - point[1], goal[0] - point[0])\n",
    "    psi = wrap_angle(psi_d - point[2])\n",
    "    # worst is +pi or -pi, best is 0. Give scores between 0-10 using these as min and max. \n",
    "    heading_score = 1 - abs(psi)  / np.pi\n",
    "    \n",
    "    return heading_score\n",
    "    \n"
   ]
  },
  {
   "cell_type": "markdown",
   "metadata": {},
   "source": [
    "## Clearance Score"
   ]
  },
  {
   "cell_type": "code",
   "execution_count": null,
   "metadata": {},
   "outputs": [],
   "source": [
    "def clearance_score(point):\n",
    "    if svc.isvalid(point)== False:\n",
    "        clearance_score = -999\n",
    "    #I want to score -999 for points very close to point as well\n",
    "    else:\n",
    "        clearance_score = 1\n",
    "        #invalid_points = get_invalid_points()\n",
    "    \n",
    "        # for invalid_point in invalid_points:\n",
    "        #     distance = ((invalid_point[0] - point[0])**2 + (invalid_point[1] - point[1])**2)**0.5\n",
    "        #     if distance < 2:\n",
    "        #         return -999\n",
    "            \n",
    "        return clearance_score\n",
    "# def get_invalid_points():\n",
    "#     invalid_points = []\n",
    "#     for i in len(map)[0]:\n",
    "#         for j in len(map)[1]:\n",
    "#             if svc.isvalid([i, j]) == False:\n",
    "#                 invalid_points.append([i, j])\n",
    "#     return invalid_points\n",
    "    "
   ]
  },
  {
   "cell_type": "markdown",
   "metadata": {},
   "source": [
    "## Velocity Score"
   ]
  },
  {
   "cell_type": "code",
   "execution_count": null,
   "metadata": {},
   "outputs": [],
   "source": [
    "def velocity_score(point_linear_velovity, min_linear_velocity, max_linear_velocity):\n",
    "    #worst is 0, best is 1\n",
    "    velocity_score = (point_linear_velovity - min_linear_velocity) / (max_linear_velocity - min_linear_velocity)\n",
    "    return velocity_score"
   ]
  }
 ],
 "metadata": {
  "kernelspec": {
   "display_name": "base",
   "language": "python",
   "name": "python3"
  },
  "language_info": {
   "codemirror_mode": {
    "name": "ipython",
    "version": 3
   },
   "file_extension": ".py",
   "mimetype": "text/x-python",
   "name": "python",
   "nbconvert_exporter": "python",
   "pygments_lexer": "ipython3",
   "version": "3.11.7"
  }
 },
 "nbformat": 4,
 "nbformat_minor": 2
}
